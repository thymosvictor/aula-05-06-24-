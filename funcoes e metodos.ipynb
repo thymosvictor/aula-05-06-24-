{
 "cells": [
  {
   "cell_type": "markdown",
   "metadata": {},
   "source": [
    "Functions and Methods\n",
    "\n",
    "\n",
    "#def - define a função\n",
    "\n",
    "\n",
    "#range - sempre que há um paranteses colado na palavra, é uma função.\n",
    "\n",
    "range é uma função de contagem.\n"
   ]
  },
  {
   "cell_type": "code",
   "execution_count": 2,
   "metadata": {},
   "outputs": [
    {
     "name": "stdout",
     "output_type": "stream",
     "text": [
      "numero 0\n",
      "numero 1\n",
      "numero 2\n",
      "numero 3\n",
      "numero 4\n"
     ]
    }
   ],
   "source": [
    "def funcaoLeitura():\n",
    "    for elemento in range (5):\n",
    "        print('numero', elemento)\n",
    "funcaoLeitura()"
   ]
  },
  {
   "cell_type": "code",
   "execution_count": 3,
   "metadata": {},
   "outputs": [
    {
     "name": "stdout",
     "output_type": "stream",
     "text": [
      "o primeiro numero é 2\n",
      "o segundo numero é 3\n",
      "a soma dos dois numeros é 5\n"
     ]
    }
   ],
   "source": [
    "#função para somar dois numeros\n",
    "def somaNum (n1,n2):\n",
    "    print ('o primeiro numero é', n1)\n",
    "    print ('o segundo numero é', n2)\n",
    "    print ('a soma dos dois numeros é',n1+n2)\n",
    "\n",
    "somaNum (2,3)"
   ]
  },
  {
   "cell_type": "code",
   "execution_count": 4,
   "metadata": {},
   "outputs": [
    {
     "name": "stdout",
     "output_type": "stream",
     "text": [
      "o primeiro numero é 5\n",
      "o segundo numero é 6\n",
      "a soma dos dois numeros é 11\n"
     ]
    }
   ],
   "source": [
    "somaNum (5,6)"
   ]
  },
  {
   "cell_type": "markdown",
   "metadata": {},
   "source": [
    "VARIAVEL GLOBAL E LOCAL\n",
    "\n",
    "\n",
    "#variavel local - depende de uma função para existir\n",
    "\n",
    "\n",
    "#variavel global - existe mesmo se nao estiver dentro de uma função"
   ]
  },
  {
   "cell_type": "code",
   "execution_count": 5,
   "metadata": {},
   "outputs": [
    {
     "name": "stdout",
     "output_type": "stream",
     "text": [
      "variavel da função multiplicada: 20\n",
      "10\n"
     ]
    }
   ],
   "source": [
    "varGlobal = 10 #essa variavel é global\n",
    "def multiplicaçao(num1,num2):\n",
    "    varGlobal = (num1 * num2) #essa variavel é local\n",
    "    print ('variavel da função multiplicada:', varGlobal)\n",
    "\n",
    "multiplicaçao(5,4)\n",
    "print(varGlobal)"
   ]
  },
  {
   "cell_type": "code",
   "execution_count": 10,
   "metadata": {},
   "outputs": [
    {
     "name": "stdout",
     "output_type": "stream",
     "text": [
      "variavel da função multiplicada: 20\n",
      "20\n"
     ]
    }
   ],
   "source": [
    "varGlobal = 10 #essa variavel é global\n",
    "def multiplica(num1,num2):\n",
    "    varLocal = (num1 * num2) #essa variavel é local\n",
    "    print ('variavel da função multiplicada:', varLocal) \n",
    "    print (varLocal)\n",
    "multiplica (5,4)\n"
   ]
  },
  {
   "cell_type": "markdown",
   "metadata": {},
   "source": [
    "FUNÇÃO DENTRO DA FUNÇÃO\n",
    "\n",
    "#split - separar"
   ]
  },
  {
   "cell_type": "code",
   "execution_count": 2,
   "metadata": {},
   "outputs": [],
   "source": [
    "def separarTexto (texto):\n",
    "    return texto.split()\n"
   ]
  },
  {
   "cell_type": "code",
   "execution_count": 3,
   "metadata": {},
   "outputs": [
    {
     "data": {
      "text/plain": [
       "['euronymous', 'era', 'gay']"
      ]
     },
     "execution_count": 3,
     "metadata": {},
     "output_type": "execute_result"
    }
   ],
   "source": [
    "separarTexto ('euronymous era gay')"
   ]
  },
  {
   "cell_type": "code",
   "execution_count": 4,
   "metadata": {},
   "outputs": [],
   "source": [
    "#Quando nao sabemos a quantidade de parametros basta usar o *\n",
    "def variosParametros (*parametros):\n",
    "    for n, item in enumerate (parametros):\n",
    "        print (\"parametros\", n, item) \n",
    "    return"
   ]
  },
  {
   "cell_type": "code",
   "execution_count": 5,
   "metadata": {},
   "outputs": [
    {
     "name": "stdout",
     "output_type": "stream",
     "text": [
      "parametros 0 toki\n",
      "parametros 1 skwisgaar\n",
      "parametros 2 nathan\n",
      "parametros 3 picles\n",
      "parametros 4 murderface\n"
     ]
    }
   ],
   "source": [
    "variosParametros ('toki', 'skwisgaar','nathan', 'picles','murderface')"
   ]
  },
  {
   "cell_type": "code",
   "execution_count": 18,
   "metadata": {},
   "outputs": [
    {
     "name": "stdout",
     "output_type": "stream",
     "text": [
      "+==================+\n",
      "| MENU DE OPERAÇÕES\n",
      "|  1 - somar       \n",
      "|  2 - subtrair    \n",
      "|  3 - multiplicar \n",
      "|  4 - dividir     \n",
      "|  0 - sair        \n",
      "+==================+\n",
      "o resultado da soma é: 25\n",
      "+==================+\n",
      "| MENU DE OPERAÇÕES\n",
      "|  1 - somar       \n",
      "|  2 - subtrair    \n",
      "|  3 - multiplicar \n",
      "|  4 - dividir     \n",
      "|  0 - sair        \n",
      "+==================+\n"
     ]
    },
    {
     "ename": "ValueError",
     "evalue": "invalid literal for int() with base 10: ''",
     "output_type": "error",
     "traceback": [
      "\u001b[1;31m---------------------------------------------------------------------------\u001b[0m",
      "\u001b[1;31mValueError\u001b[0m                                Traceback (most recent call last)",
      "Cell \u001b[1;32mIn[18], line 26\u001b[0m\n\u001b[0;32m     23\u001b[0m \u001b[38;5;28mprint\u001b[39m(\u001b[38;5;124m'\u001b[39m\u001b[38;5;124m|  0 - sair        \u001b[39m\u001b[38;5;124m'\u001b[39m)     \n\u001b[0;32m     24\u001b[0m \u001b[38;5;28mprint\u001b[39m(\u001b[38;5;124m'\u001b[39m\u001b[38;5;124m+==================+\u001b[39m\u001b[38;5;124m'\u001b[39m)\n\u001b[1;32m---> 26\u001b[0m op \u001b[38;5;241m=\u001b[39m \u001b[38;5;28;43mint\u001b[39;49m\u001b[43m(\u001b[49m\u001b[38;5;28;43minput\u001b[39;49m\u001b[43m(\u001b[49m\u001b[43m)\u001b[49m\u001b[43m)\u001b[49m\n\u001b[0;32m     27\u001b[0m \u001b[38;5;28;01mif\u001b[39;00m op\u001b[38;5;241m==\u001b[39m\u001b[38;5;241m0\u001b[39m:\n\u001b[0;32m     28\u001b[0m      \u001b[38;5;28;01mbreak\u001b[39;00m\n",
      "\u001b[1;31mValueError\u001b[0m: invalid literal for int() with base 10: ''"
     ]
    }
   ],
   "source": [
    "#CALCULADORA\n",
    "\n",
    "def somarElementos (elemento1, elemento2):\n",
    "    return elemento1 + elemento2\n",
    "\n",
    "def subtrairElementos (elemento1, elemento2):\n",
    "    return elemento1 - elemento2\n",
    "\n",
    "def multiplicarElementos (elemento1, elemento2):\n",
    "    return elemento1 * elemento2\n",
    "\n",
    "def dividirElementos (elemento1, elemento2):\n",
    "    return elemento1/elemento2\n",
    "\n",
    "\n",
    "while True:\n",
    "     print('+==================+')\n",
    "     print('| MENU DE OPERAÇÕES')\n",
    "     print('|  1 - somar       ')\n",
    "     print('|  2 - subtrair    ')\n",
    "     print('|  3 - multiplicar ')  \n",
    "     print('|  4 - dividir     ')     \n",
    "     print('|  0 - sair        ')     \n",
    "     print('+==================+')\n",
    "\n",
    "     op = int(input())\n",
    "     if op==0:\n",
    "          break\n",
    "     \n",
    "     elemento1 = int(input(\"Primeiro numero:\"))\n",
    "     elemento2 = int(input(\"Segundo numero:\"))\n",
    "\n",
    "     if op==1:\n",
    "          print ('o resultado da soma é:', somarElementos(elemento1, elemento2))\n",
    "     elif op==2:\n",
    "          print ('o resultado da subtração é:', subtrairElementos(elemento1, elemento2))\n",
    "     elif op==3:\n",
    "          print ('o resultado da multiplicação é:', multiplicarElementos(elemento1, elemento2))\n",
    "     elif op==4:\n",
    "          print ('o resultado da divisão é:', dividirElementos(elemento1, elemento2))\n",
    "     else:\n",
    "        print('por favor escolha a operação desejada')"
   ]
  }
 ],
 "metadata": {
  "kernelspec": {
   "display_name": "Python 3",
   "language": "python",
   "name": "python3"
  },
  "language_info": {
   "codemirror_mode": {
    "name": "ipython",
    "version": 3
   },
   "file_extension": ".py",
   "mimetype": "text/x-python",
   "name": "python",
   "nbconvert_exporter": "python",
   "pygments_lexer": "ipython3",
   "version": "3.11.4"
  }
 },
 "nbformat": 4,
 "nbformat_minor": 2
}
